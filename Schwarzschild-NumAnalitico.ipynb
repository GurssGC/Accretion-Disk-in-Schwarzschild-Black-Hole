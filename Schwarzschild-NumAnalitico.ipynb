{
 "cells": [
  {
   "cell_type": "markdown",
   "id": "d3484f67",
   "metadata": {},
   "source": [
    "# Disco de Acreción alrededor del agujero negro de Schwarzschild\n",
    "\n",
    "En este cuadernillo de Jupyter estudiamos el disco de acreción alrededor de una agujero de Schwarzschild, los resultados se obtienen de manera analítica y numérica. "
   ]
  },
  {
   "cell_type": "markdown",
   "id": "333e73c9",
   "metadata": {},
   "source": [
    "### Órbitas circulares en espaciotiempo estático con simetría esférica.\n",
    "\n",
    "Para el estudio del disco de acreción necesitamos determinar las óribitas circulares que siguen las particulas masivas alrededor del agujero negro, para esto iniciammos con la ecuación geodésica. Consideramos un espacio estático, simétricamente esférico descrito por la siguiente métrica,\n",
    "\n",
    "\\begin{equation}\n",
    "ds^2=-f(r)dt^2+\\frac{dr^2}{h(r)}+r^2d\\theta^2+r^2\\sin{(\\theta)}^2d\\phi^2.\n",
    "\\end{equation}\n",
    "\n",
    "El lagrangiano para una particula de prueba tiene la forma $\\mathcal{L}=1/2g_{\\mu\\nu}\\dot{x}^{\\mu}\\dot{x}^{\\nu}$, que al considerar que estas se mueven en el plano ecuatorial, es decir $\\theta=\\pi/2$, se explicitamente la forma siguiente\n",
    "\n",
    "\\begin{equation}\n",
    "\\mathcal{L}=\\frac{1}{2}\\left[-f(r)\\dot{t}^2+\\frac{\\dot{r}^2}{h(r)}+r^2\\dot{\\phi}^2\\right].\n",
    "\\end{equation}\n",
    "\n",
    "Debido a que el lagrangiano anterior no depende explicitamente de las coordenadas $t$ y $\\phi$, estas se conocen como coordenadas cíclicas, estas determinan cantidades conservadas las cuales son la energía y el momento angular, respectivamente. \n",
    "\n",
    "\\begin{equation}\n",
    "\\mathcal{E}=f(r)\\dot{t},\\qquad\\mathcal{l}=r^{2}\\dot{\\phi}.\n",
    "\\end{equation}\n",
    "\n",
    "Mediante las ecuaciones de Euler-Lagrange obtenemos la ecuación para la coordenada $r$ y la podemos escribir como \n",
    "\n",
    "\\begin{equation}\n",
    "\\dot{r}^2=\\frac{h(r)}{f(r)}\\mathcal{E}^2-h(r)\\left(\\frac{\\mathcal{l^2}}{r^2}+1\\right),\n",
    "\\end{equation}\n",
    "\n",
    "donde podemos definir un potencial efectivo $V_{eff}(r)^2=h(r)\\left(\\frac{\\mathcal{l^2}}{r^2}+1\\right)$. Para considerar solo orbitas circulares se deben cumplir las condiciones de $\\dot{r}=0$ y $d\\dot{r}/dr=0$, esto implica que \n",
    "\n",
    "\\begin{equation}\n",
    "\\mathcal{E}^2=\\frac{2f^2}{2f-f'r},\\qquad\\mathcal{l}^2=\\frac{f'r^3}{2f-f'r}.\n",
    "\\end{equation}\n",
    "\n",
    "También se requiere determinar la velocidad angular de las particulas de prueba que está dado por la expresión, \n",
    "\n",
    "\\begin{equation}\n",
    "\\Omega=\\frac{\\dot{\\phi}}{\\dot{t}}=\\sqrt{\\frac{f'}{2r}}.\n",
    "\\end{equation}\n"
   ]
  },
  {
   "cell_type": "markdown",
   "id": "25595357",
   "metadata": {},
   "source": [
    "### Órbitas circulares para el agujero negro de Schwarzschild\n",
    "\n",
    "El agujero negro de Schwarzschild está definido por las funciones métricas \n",
    "\n",
    "\\begin{equation}\n",
    "f(r) = h(r) = 1-\\frac{2GM}{c^2r},  \n",
    "\\end{equation}\n",
    "\n",
    "Por simplicidad vamos a definir las siguientes cantidades, $r_{g}=\\frac{GM}{c^2}$ y $x=\\frac{r}{r_{g}}$, con lo que la solución de Schwarzschild se escribe como \n",
    "\n",
    "\\begin{equation}\n",
    "f(r) = h(r) = 1-\\frac{2}{x},  \n",
    "\\end{equation}\n",
    "\n",
    "Para probar que la solución analítica y la solución numérica son iguales vamos a graficar las funciones métricas y sus derivadas. "
   ]
  },
  {
   "cell_type": "code",
   "execution_count": 1,
   "id": "abe96ead",
   "metadata": {},
   "outputs": [],
   "source": [
    "# Librerías numéricas y de graficación necesarias\n",
    "\n",
    "import numpy as np\n",
    "from scipy import optimize\n",
    "from scipy import integrate\n",
    "import matplotlib.pyplot as plt\n",
    "from matplotlib import patheffects\n",
    "from matplotlib.text import OffsetFrom\n",
    "\n",
    "import warnings\n",
    "warnings.filterwarnings('ignore')"
   ]
  },
  {
   "cell_type": "code",
   "execution_count": 2,
   "id": "4f47658d",
   "metadata": {},
   "outputs": [],
   "source": [
    "# Valores Físicos                        \n",
    "Ms    = 1.988e+33                        # g                           MASA DEL SOL\n",
    "M     = 14.8*Ms                          # Msol (g)                    MASA DEL AGUJERO NEGRO\n",
    "Mp    = 0.472e+19                        # g/s^{-1}                    RAZÓN DE ACRECCIÓN\n",
    "h     = 6.6256e-27                       # erg s                       CONSTANTE DE PLANCK \n",
    "k     = 1.3805e-16                       # erg K^{-1}                  CONSTANTE DE BOLTZMANN\n",
    "theta = 1/3*np.pi                        # radianes                    ÁNGULO DE INCLINACIÓN DEL DISCO\n",
    "sigma = 5.67e-5                          # erg s^{-1} cm^{-2} K^{-4}   CONSTANTE DE STEFAN-BOLTZMANN\n",
    "c     = 3e10                             # cm/s                        VELOCIDAD DE LA LUZ\n",
    "G     = 6.674e-8                         # cm^{3}g^{-1}s^{-2}          CONSTANTE UNIVERSAL DE GRAVITACION\n",
    "#ri    = 6                                #                             RADIO DEL ISCO (PUNTO INICIAL DEL DISCO)  \n",
    "rf    = 50                               #                             PUNTO FINAL DEL DISCO \n",
    "nu    = np.linspace(1e+10, 1e+18, 1000)  #                             FRECUENCIA \n",
    "rg    = G*M/c**2                         #"
   ]
  },
  {
   "cell_type": "code",
   "execution_count": 3,
   "id": "f555b100",
   "metadata": {},
   "outputs": [],
   "source": [
    "# Definimos el intervalo en el eje horizontal para realizar las gráficas y la función métrica. \n",
    "\n",
    "x = np.linspace(0.0, 60.0, 10000 )\n",
    "\n",
    "# Definimos la función métrica y sus derivadas.\n",
    "\n",
    "def f(x):\n",
    "    F = 1. - 2. / x\n",
    "    return F\n",
    "\n",
    "def df(x):\n",
    "    F = 2. / x**2\n",
    "    return F\n",
    "\n",
    "def ddf(x):\n",
    "    F = - 4. / x**3\n",
    "    return F\n",
    "\n",
    "fsch   = f(x)\n",
    "dfsch  = df(x)\n",
    "ddfsch = ddf(x)\n",
    "\n",
    "# Aunque para Schwarzschild sabemos que f(x)=h(x), vamos a considerar un caso en el que no son iguales. \n",
    "\n",
    "def h(x):\n",
    "    F = 1. - 2. / x\n",
    "    return F\n",
    "\n",
    "def dh(x):\n",
    "    F = 2. / x**2\n",
    "    return F\n",
    "\n",
    "def ddh(x):\n",
    "    F = - 4. / x**3\n",
    "    return F\n",
    "\n",
    "fsch   = h(x)\n",
    "dfsch  = dh(x)\n",
    "ddfsch = ddh(x)\n"
   ]
  },
  {
   "cell_type": "code",
   "execution_count": 4,
   "id": "ba2ab6f2",
   "metadata": {},
   "outputs": [],
   "source": [
    "# Importamos la función métrica y sus derivadas de la solución numérica para Schwarzschild\n",
    "\n",
    "R       = np.loadtxt( 'R.txt' )\n",
    "fschN   = np.loadtxt( 'SchN.txt' )\n",
    "dfschN  = np.loadtxt( 'DSchN.txt' )\n",
    "ddfschN = np.loadtxt( 'DDSchN.txt' )\n",
    "\n",
    "# Volvemos a importar los datos como si las funciones f(x) y h(x) fueran distintas. \n",
    "\n",
    "hschN   = np.loadtxt( 'SchN.txt' )\n",
    "dhschN  = np.loadtxt( 'DSchN.txt' )\n",
    "ddhschN = np.loadtxt( 'DDSchN.txt' )"
   ]
  },
  {
   "cell_type": "code",
   "execution_count": 5,
   "id": "ef46959e",
   "metadata": {},
   "outputs": [
    {
     "data": {
      "image/png": "[encoded data removed]",
      "text/plain": [
       "<Figure size 576x345.6 with 1 Axes>"
      ]
     },
     "metadata": {
      "needs_background": "light"
     },
     "output_type": "display_data"
    }
   ],
   "source": [
    "#GRAFICA DE LA FUNCIÓN MÉTRICA PARA Schwarzschild.\n",
    "\n",
    "#Paquetes para escritura tipo Latex\n",
    "plt.rc('text', usetex = True)\n",
    "plt.rc('font', family = 'serif')\n",
    "\n",
    "#Tamaño de la gráfica y creación de la gráfica.\n",
    "\n",
    "fig, ax = plt.subplots(figsize = (8.0, 4.8), sharex=False, sharey=False)\n",
    "\n",
    "ax.hlines( 0.0, 0.0, 40.00, color = 'black', linewidth = 1.0 )\n",
    "\n",
    "ax.plot( x,       fsch,        \"-\" , markersize = 3.5, label = r\"Analítico\", linewidth = 1.5, color = \"blue\"  )\n",
    "ax.plot( R[::35], fschN[::35], \"o\",  markersize = 3.5, label = r\"Numérico\",  linewidth = 1.5, color = \"red\" )\n",
    "\n",
    "plt.xlabel(r'$r/r_{g}$')\n",
    "plt.ylabel(r'$f(r/r_{g})$')\n",
    "\n",
    "plt.xlim( 0.00,  20.0 )\n",
    "plt.ylim( -1.00, 1.00 )\n",
    "\n",
    "plt.legend(loc='lower right', frameon=False)\n",
    "\n",
    "plt.show()"
   ]
  },
  {
   "cell_type": "code",
   "execution_count": 6,
   "id": "8e96c654",
   "metadata": {},
   "outputs": [
    {
     "data": {
      "image/png": "[encoded data removed]",
      "text/plain": [
       "<Figure size 576x345.6 with 1 Axes>"
      ]
     },
     "metadata": {
      "needs_background": "light"
     },
     "output_type": "display_data"
    }
   ],
   "source": [
    "#GRAFICA DE LA PRIMERA DERIADA FUNCIÓN MÉTRICA PARA Schwarzschild.\n",
    "\n",
    "#Paquetes para escritura tipo Latex\n",
    "plt.rc('text', usetex = True)\n",
    "plt.rc('font', family = 'serif')\n",
    "\n",
    "#Tamaño de la gráfica y creación de la gráfica.\n",
    "\n",
    "fig, ax = plt.subplots(figsize = (8.0, 4.8), sharex=False, sharey=False)\n",
    "\n",
    "ax.hlines( 0.0, 0.0, 40.00, color = 'black', linewidth = 1.0 )\n",
    "\n",
    "ax.plot( x,       dfsch,        \"-\" , markersize = 3.5, label = r\"Analítico\", linewidth = 1.5, color = \"blue\"  )\n",
    "ax.plot( R[::35], dfschN[::35], \"o\",  markersize = 3.5, label = r\"Numérico\",  linewidth = 1.5, color = \"red\" )\n",
    "\n",
    "plt.xlabel(r'$r/r_{g}$')\n",
    "plt.ylabel(r'$df(r/r_{g})/dr$')\n",
    "\n",
    "plt.xlim( 2.00,  20.0 )\n",
    "plt.ylim( -0.10, 0.50 )\n",
    "\n",
    "plt.legend(loc='upper right', frameon=False)\n",
    "\n",
    "plt.show()"
   ]
  },
  {
   "cell_type": "code",
   "execution_count": 7,
   "id": "e9122e97",
   "metadata": {},
   "outputs": [
    {
     "data": {
      "image/png": "[encoded data removed]",
      "text/plain": [
       "<Figure size 576x345.6 with 1 Axes>"
      ]
     },
     "metadata": {
      "needs_background": "light"
     },
     "output_type": "display_data"
    }
   ],
   "source": [
    "#GRAFICA DE LA SEGUNDA DERIADA FUNCIÓN MÉTRICA PARA Schwarzschild.\n",
    "\n",
    "#Paquetes para escritura tipo Latex\n",
    "plt.rc('text', usetex = True)\n",
    "plt.rc('font', family = 'serif')\n",
    "\n",
    "#Tamaño de la gráfica y creación de la gráfica.\n",
    "\n",
    "fig, ax = plt.subplots(figsize = (8.0, 4.8), sharex=False, sharey=False)\n",
    "\n",
    "ax.hlines( 0.0, 0.0, 40.00, color = 'black', linewidth = 1.0 )\n",
    "\n",
    "ax.plot( x,       ddfsch,        \"-\" , markersize = 3.5, label = r\"Analítico\", linewidth = 1.5, color = \"blue\"  )\n",
    "ax.plot( R[::35], ddfschN[::35], \"o\",  markersize = 3.5, label = r\"Numérico\",  linewidth = 1.5, color = \"red\" )\n",
    "\n",
    "plt.xlabel(r'$r/r_{g}$')\n",
    "plt.ylabel(r'$d^2f(r/r_{g})/dr^2$')\n",
    "\n",
    "plt.xlim( 2.00,  20.0 )\n",
    "plt.ylim( -0.40, 0.10 )\n",
    "\n",
    "plt.legend(loc='lower right', frameon=False)\n",
    "\n",
    "plt.show()"
   ]
  },
  {
   "cell_type": "markdown",
   "id": "a1d17238",
   "metadata": {},
   "source": [
    "## Movimiento de Particulas de Prueba.\n",
    "\n",
    "### Energía de particulas de prueba, \n",
    "\n",
    "Ahora vamos a gráficar la energía de la particula de prueba para comprobar que los pasos intermedios son correctos. Recordemos que la energía está dada por la expresión \n",
    "\n",
    "\\begin{equation}\n",
    "\\mathcal{E}^{2}=\\frac{2f^{2}}{2f-rf'}\n",
    "\\end{equation}"
   ]
  },
  {
   "cell_type": "code",
   "execution_count": 8,
   "id": "a6127246",
   "metadata": {},
   "outputs": [],
   "source": [
    "# Definimos la energía de la particula de prueba para la solución analítica. \n",
    "\n",
    "def E(x):\n",
    "    F = np.sqrt( 2*f(x)**2 / ( 2*f(x)-x*df(x) ) )\n",
    "    return F\n",
    "\n",
    "Esch = E(x)"
   ]
  },
  {
   "cell_type": "code",
   "execution_count": 9,
   "id": "771aee05",
   "metadata": {},
   "outputs": [],
   "source": [
    "# Definimos la energía de la particula de prueba para la solución numérica. \n",
    "\n",
    "EschN = np.sqrt( 2*fschN**2 / ( 2*fschN - R*dfschN ) )"
   ]
  },
  {
   "cell_type": "code",
   "execution_count": 10,
   "id": "9055dfa0",
   "metadata": {},
   "outputs": [
    {
     "data": {
      "image/png": "[encoded data removed]",
      "text/plain": [
       "<Figure size 576x345.6 with 1 Axes>"
      ]
     },
     "metadata": {
      "needs_background": "light"
     },
     "output_type": "display_data"
    }
   ],
   "source": [
    "#GRAFICA DE LA ENERGÍA DE LA PARTICULA MASIVA DE PRUEBA ALREDEDOR DEL AGUJERO NEGRO DE Schwarzschild.\n",
    "\n",
    "#Paquetes para escritura tipo Latex\n",
    "plt.rc('text', usetex = True)\n",
    "plt.rc('font', family = 'serif')\n",
    "\n",
    "#Tamaño de la gráfica y creación de la gráfica.\n",
    "\n",
    "fig, ax = plt.subplots(figsize = (8.0, 4.8), sharex=False, sharey=False)\n",
    "\n",
    "ax.hlines( 0.0, 0.0, 60.00, color = 'black', linewidth = 1.0 )\n",
    "\n",
    "ax.plot( x,       Esch,        \"-\" , markersize = 3.5, label = r\"Analítico\", linewidth = 1.5, color = \"blue\"  )\n",
    "ax.plot( R[::25], EschN[::25], \"o\",  markersize = 3.5, label = r\"Numérico\",  linewidth = 1.5, color = \"red\" )\n",
    "\n",
    "plt.xlabel(r'$r/r_{g}$')\n",
    "plt.ylabel(r'$E(r/r_{g})$')\n",
    "\n",
    "plt.xlim( 3.50, 15.0 )\n",
    "plt.ylim( 0.94, 0.98 )\n",
    "\n",
    "plt.legend(loc='upper right', frameon=False)\n",
    "\n",
    "plt.show()"
   ]
  },
  {
   "cell_type": "markdown",
   "id": "f630e169",
   "metadata": {},
   "source": [
    "### Momento angular de particulas de prueba, \n",
    "\n",
    "Ahora vamos a gráficar el momento angular  de la particula de prueba para comprobar que los pasos intermedios son correctos. Recordemos que la energía está dada por la expresión \n",
    "\n",
    "\\begin{equation}\n",
    "\\mathcal{l}^{2}=\\frac{r^{3}f'}{2f-rf'}\n",
    "\\end{equation}\n"
   ]
  },
  {
   "cell_type": "code",
   "execution_count": 11,
   "id": "e72eb40f",
   "metadata": {},
   "outputs": [],
   "source": [
    "# Definimos el momento angular de la particula de prueba para la solución analítica. \n",
    "\n",
    "def ml(x):\n",
    "    F = np.sqrt( x**3.*df(x) / (  2.*f(x)-x*df(x) ) )\n",
    "    return F\n",
    "\n",
    "mlsch = ml(x)"
   ]
  },
  {
   "cell_type": "code",
   "execution_count": 12,
   "id": "de22aab8",
   "metadata": {},
   "outputs": [],
   "source": [
    "# Definimos el momento angular de la particula de prueba para la solución numérica. \n",
    "\n",
    "lschN = np.sqrt( R**3*dfschN / ( 2*fschN - R*dfschN ) )"
   ]
  },
  {
   "cell_type": "code",
   "execution_count": 13,
   "id": "ee79619e",
   "metadata": {},
   "outputs": [
    {
     "data": {
      "image/png": "[encoded data removed]",
      "text/plain": [
       "<Figure size 576x345.6 with 1 Axes>"
      ]
     },
     "metadata": {
      "needs_background": "light"
     },
     "output_type": "display_data"
    }
   ],
   "source": [
    "#GRAFICA DEL MOMENTO ANGULAR DE LA PARTICULA MASIVA DE PRUEBA ALREDEDOR DEL AGUJERO NEGRO DE Schwarzschild.\n",
    "\n",
    "#Paquetes para escritura tipo Latex\n",
    "plt.rc('text', usetex = True)\n",
    "plt.rc('font', family = 'serif')\n",
    "\n",
    "#Tamaño de la gráfica y creación de la gráfica.\n",
    "\n",
    "fig, ax = plt.subplots(figsize = (8.0, 4.8), sharex=False, sharey=False)\n",
    "\n",
    "ax.hlines( 0.0, 0.0, 60.00, color = 'black', linewidth = 1.0 )\n",
    "\n",
    "ax.plot( x,       mlsch,        \"-\" , markersize = 3.5, label = r\"Analítico\", linewidth = 1.5, color = \"blue\"  )\n",
    "ax.plot( R[::20], lschN[::20], \"o\",  markersize = 3.5, label = r\"Numérico\",  linewidth = 1.5, color = \"red\" )\n",
    "\n",
    "plt.xlabel(r'$r/r_{g}$')\n",
    "plt.ylabel(r'$l(r/r_{g})$')\n",
    "\n",
    "plt.xlim( 3.00, 12.0 )\n",
    "plt.ylim( 3.40, 5.00 )\n",
    "\n",
    "plt.legend(loc='upper right', frameon=False)\n",
    "\n",
    "plt.show()"
   ]
  },
  {
   "cell_type": "markdown",
   "id": "91973c89",
   "metadata": {},
   "source": [
    "### Velocidad Angular de la particula de prueba \n",
    "\n",
    "Ahora vamos a gráficar la velocidad angular de la particula de prueba para comprobar que los pasos intermedios son correctos. Recordemos que la energía está dada por la expresión \n",
    "\n",
    "\\begin{equation}\n",
    "\\Omega=\\sqrt{\\frac{f'}{2r}}\n",
    "\\end{equation}\n"
   ]
  },
  {
   "cell_type": "code",
   "execution_count": 14,
   "id": "cd32ea7c",
   "metadata": {},
   "outputs": [],
   "source": [
    "# Definimos la velocidad angular de la particula de prueba para la solución analítica. \n",
    "\n",
    "def O(x):\n",
    "    F = np.sqrt( df(x) / ( 2*x ) )\n",
    "    return F\n",
    "\n",
    "Osch = O(x)"
   ]
  },
  {
   "cell_type": "code",
   "execution_count": 15,
   "id": "307fa2c5",
   "metadata": {},
   "outputs": [],
   "source": [
    "# Definimos la energía de la particula de prueba para la solución numérica. \n",
    "\n",
    "OschN = np.sqrt( dfschN / ( 2*R ) )"
   ]
  },
  {
   "cell_type": "code",
   "execution_count": 16,
   "id": "9795e78d",
   "metadata": {},
   "outputs": [
    {
     "data": {
      "image/png": "[encoded data removed]",
      "text/plain": [
       "<Figure size 576x345.6 with 1 Axes>"
      ]
     },
     "metadata": {
      "needs_background": "light"
     },
     "output_type": "display_data"
    }
   ],
   "source": [
    "#GRAFICA DE LA VELOCIDAD ANGULAR DE LA PARTICULA MASIVA DE PRUEBA ALREDEDOR DEL AGUJERO NEGRO DE Schwarzschild.\n",
    "\n",
    "#Paquetes para escritura tipo Latex\n",
    "plt.rc('text', usetex = True)\n",
    "plt.rc('font', family = 'serif')\n",
    "\n",
    "#Tamaño de la gráfica y creación de la gráfica.\n",
    "\n",
    "fig, ax = plt.subplots(figsize = (8.0, 4.8), sharex=False, sharey=False)\n",
    "\n",
    "ax.hlines( -1.0, -1.0, 60.00, color = 'black', linewidth = 1.0 )\n",
    "\n",
    "ax.plot( x,       Osch,        \"-\" , markersize = 3.5, label = r\"Analítico\", linewidth = 1.5, color = \"blue\"  )\n",
    "ax.plot( R[::20], OschN[::20], \"o\",  markersize = 3.5, label = r\"Numérico\",  linewidth = 1.5, color = \"red\" )\n",
    "\n",
    "plt.xlabel(r'$r/r_{g}$')\n",
    "plt.ylabel(r'$\\Omega(r/r_{g})$')\n",
    "\n",
    "plt.xlim( 0.00, 4.00 )\n",
    "plt.ylim( 0.00, 4.00 )\n",
    "\n",
    "plt.legend(loc='upper right', frameon=False)\n",
    "\n",
    "plt.show()"
   ]
  },
  {
   "cell_type": "markdown",
   "id": "b282aaf5",
   "metadata": {},
   "source": [
    "## Potencial Efectivo de la particula de prueba y su segunda derivada \n",
    "\n",
    "Sabemos que el potencial efectivo lo podemos escribir como $V_{eff}=f(r)\\left(1+\\frac{l^2}{r^2}\\right)$, y su segunda derivada la expresamos como,\n",
    "\n",
    "\\begin{equation}\n",
    "V''_{eff}=\\frac{6ff'-4rf'^2+2rff''}{2rf-r^2f'}=0,\n",
    "\\end{equation}\n",
    "\n",
    "de esta condición podemos obtener el radio del ISCO.\n"
   ]
  },
  {
   "cell_type": "code",
   "execution_count": 17,
   "id": "63d35782",
   "metadata": {},
   "outputs": [],
   "source": [
    "# Definimos el potencial efectivo analítico y su segunda derivada\n",
    "\n",
    "def V(x):\n",
    "    F = f(x)*( 1 + l**2/x**2 )\n",
    "    return F\n",
    "\n",
    "def ddV(x):\n",
    "    F = ( 6*f(x)*df(x) - 4*x*df(x)**2 + 2*x*f(x)*ddf(x) ) / ( 2*x*f(x) - x**2*df(x) )\n",
    "    return F\n",
    "\n",
    "# Valores numéricos para el momento angular. \n",
    "\n",
    "l = 4.5\n",
    "Vsch   = V(x)\n",
    "ddVsch = ddV(x)"
   ]
  },
  {
   "cell_type": "code",
   "execution_count": 18,
   "id": "b17d7911",
   "metadata": {},
   "outputs": [],
   "source": [
    "# Definimos el potencial efectivo numérico y su segunda derivada\n",
    "\n",
    "VefN   = fschN*( 1 + l**2/R**2 )\n",
    "ddVefN = ( 6*fschN*dfschN - 4*R*dfschN**2 + 2*R*fschN*ddfschN ) / ( 2*R*fschN - R**2*dfschN )"
   ]
  },
  {
   "cell_type": "code",
   "execution_count": 19,
   "id": "6dca96c5",
   "metadata": {},
   "outputs": [
    {
     "data": {
      "image/png": "[encoded data removed]",
      "text/plain": [
       "<Figure size 576x345.6 with 1 Axes>"
      ]
     },
     "metadata": {
      "needs_background": "light"
     },
     "output_type": "display_data"
    }
   ],
   "source": [
    "#GRAFICA DEL POTENCIAL EFECTIVO DE LA PARTICULA MASIVA DE PRUEBA ALREDEDOR DEL AGUJERO NEGRO DE Schwarzschild.\n",
    "\n",
    "#Paquetes para escritura tipo Latex\n",
    "plt.rc('text', usetex = True)\n",
    "plt.rc('font', family = 'serif')\n",
    "\n",
    "#Tamaño de la gráfica y creación de la gráfica.\n",
    "\n",
    "fig, ax = plt.subplots(figsize = (8.0, 4.8), sharex=False, sharey=False)\n",
    "\n",
    "ax.hlines( 0.0, 0.0, 60.00, color = 'black', linewidth = 1.0 )\n",
    "\n",
    "ax.plot( x,       Vsch,        \"-\" , markersize = 3.5, label = r\"Analítico\", linewidth = 1.5, color = \"blue\"  )\n",
    "ax.plot( R[::35], VefN[::35],  \"o\",  markersize = 3.5, label = r\"Numérico\",  linewidth = 1.5, color = \"red\" )\n",
    "\n",
    "plt.xlabel(r'$r/r_{g}$')\n",
    "plt.ylabel(r'$V_{eff}^2$')\n",
    "\n",
    "plt.xlim( 2.00, 26.00 )\n",
    "plt.ylim( 0.94, 1.15 )\n",
    "\n",
    "plt.legend(loc='upper right', frameon=False)\n",
    "\n",
    "plt.show()"
   ]
  },
  {
   "cell_type": "code",
   "execution_count": 20,
   "id": "87255f58",
   "metadata": {},
   "outputs": [
    {
     "data": {
      "image/png": "[encoded data removed]",
      "text/plain": [
       "<Figure size 576x345.6 with 1 Axes>"
      ]
     },
     "metadata": {
      "needs_background": "light"
     },
     "output_type": "display_data"
    }
   ],
   "source": [
    "# GRAFICA DE LA SEGUNDA DERIVADA DEL POTENCIAL EFECTIVO DE LA PARTICULA MASIVA DE PRUEBA \n",
    "# ALREDEDOR DEL AGUJERO NEGRO DE Schwarzschild.\n",
    "\n",
    "#Paquetes para escritura tipo Latex\n",
    "plt.rc('text', usetex = True)\n",
    "plt.rc('font', family = 'serif')\n",
    "\n",
    "#Tamaño de la gráfica y creación de la gráfica.\n",
    "\n",
    "fig, ax = plt.subplots(figsize = (8.0, 4.8), sharex=False, sharey=False)\n",
    "\n",
    "ax.hlines( 0.0, 0.0, 60.00, color = 'black', linewidth = 1.0 )\n",
    "\n",
    "ax.plot( x,       ddVsch,        \"-\" , markersize = 3.5, label = r\"Analítico\", linewidth = 1.5, color = \"blue\"  )\n",
    "ax.plot( R[::5], ddVefN[::5],  \"o\",  markersize = 3.0, label = r\"Numérico\",  linewidth = 0.5, color = \"red\" )\n",
    "\n",
    "plt.xlabel(r'$r/r_{g}$')\n",
    "plt.ylabel(r'$\\frac{d^2V_{eff}^2}{dr^2}$')\n",
    "\n",
    "plt.xlim( 5.50, 6.75 )\n",
    "plt.ylim( -0.002, 0.002 )\n",
    "\n",
    "plt.legend(loc='upper right', frameon=False)\n",
    "\n",
    "plt.show()"
   ]
  },
  {
   "cell_type": "code",
   "execution_count": 21,
   "id": "fa4cc1e0",
   "metadata": {},
   "outputs": [
    {
     "name": "stdout",
     "output_type": "stream",
     "text": [
      "6.000000000000017\n"
     ]
    }
   ],
   "source": [
    "# Localización del ISCO, para la solución analítica \n",
    "\n",
    "xin = 6.1 \n",
    "ri  = optimize.newton( ddV, xin, fprime = None )\n",
    "print( ri )"
   ]
  },
  {
   "cell_type": "code",
   "execution_count": 22,
   "id": "18cd52d9",
   "metadata": {},
   "outputs": [],
   "source": [
    "#Vint = ddVefN[599:5999]"
   ]
  },
  {
   "cell_type": "markdown",
   "id": "d139c39c",
   "metadata": {},
   "source": [
    "## Propiedades físicas del disco de acreción \n",
    "\n",
    "Primeramente vamos a determinar la potencia por unidad de area la cual está dada por la siguiente expresión,\n",
    "\n",
    "\\begin{equation}\n",
    "D(r) = \\frac{\\dot{M}}{4\\pi r}\\left(-\\frac{d\\Omega}{dr}\\right)\\frac{\\sqrt{f(r)h(r)}}{\\left(\\mathcal{E}-\\Omega\\mathcal{l}\\right)^{2}}\\int_{r_{i}}^{r}{\\left(\\mathcal{E}-\\Omega\\mathcal{l}\\right)\\frac{d\\mathcal{l}}{dr}}dr,\n",
    "\\end{equation}\n",
    "\n",
    "donde $r_{i}$ es el radio del ISCO que en el caso del agujero negro de Schwarzschild es $r_{i}=6M$.\n",
    "\n",
    "Para probar que todo funciona correctamente primero vamos a graficar el integrando y el factor que está afuera de la integral y posteriormente vamos a realizar la integral.\n",
    "\n",
    "El integrando viene dado por, \n",
    "\n",
    "\\begin{equation}\n",
    "\\left(\\mathcal{E}-\\Omega\\mathcal{l}\\right)\\frac{d\\mathcal{l}}{dr}\n",
    "\\end{equation}"
   ]
  },
  {
   "cell_type": "code",
   "execution_count": 23,
   "id": "a30b8416",
   "metadata": {},
   "outputs": [],
   "source": [
    "# Definimos la derivada del momento angular\n",
    "\n",
    "def dl(x):\n",
    "    F = ( -2.*x*df(x)**2. + f(x)*( 3.*df(x)+x*ddf(x) ) ) / ( 2*f(x) - x*df(x) )**(3./2.)\n",
    "    return F\n",
    "\n",
    "dlsch = dl(x)\n"
   ]
  },
  {
   "cell_type": "code",
   "execution_count": 24,
   "id": "bbcff575",
   "metadata": {},
   "outputs": [],
   "source": [
    "# Definimos la derivada del momento angular numérica \n",
    "\n",
    "dlN = ( -2.*R*dfschN**2. + fschN*( 3.*dfschN+R*ddfschN ) ) / ( 2*fschN - R*dfschN )**(3./2.)"
   ]
  },
  {
   "cell_type": "code",
   "execution_count": 25,
   "id": "66e3a205",
   "metadata": {},
   "outputs": [
    {
     "data": {
      "image/png": "[encoded data removed]",
      "text/plain": [
       "<Figure size 576x345.6 with 1 Axes>"
      ]
     },
     "metadata": {
      "needs_background": "light"
     },
     "output_type": "display_data"
    }
   ],
   "source": [
    "# GRAFICA DE LA DERIVADA DEL MOMENTO ANGULAR DE LA PARTICULA. \n",
    "\n",
    "#Paquetes para escritura tipo Latex\n",
    "plt.rc('text', usetex = True)\n",
    "plt.rc('font', family = 'serif')\n",
    "        \n",
    "#Tamaño de la gráfica y creación de la gráfica.\n",
    "      \n",
    "fig, ax = plt.subplots(figsize = (8.0, 4.8), sharex=False, sharey=False)\n",
    "\n",
    "ax.hlines( 0.0, 0.0, 60.00, color = 'black', linewidth = 1.0 )\n",
    "\n",
    "ax.plot( x,      dlsch,        \"-\" , markersize = 3.5, label = r\"Analítico\", linewidth = 1.5, color = \"blue\"  )\n",
    "ax.plot( R[::35], dlN[::35],  \"o\",  markersize = 3.0, label = r\"Numérico\",  linewidth = 0.5, color = \"red\" )\n",
    "\n",
    "plt.xlabel(r'$r/r_{g}$')\n",
    "plt.ylabel(r'$\\frac{d\\mathcal{l}}{dr}$')\n",
    "\n",
    "plt.xlim( 5.00, 30.00 )\n",
    "plt.ylim( -0.006, 0.006 )\n",
    "\n",
    "plt.legend(loc='upper right', frameon=False)\n",
    "\n",
    "plt.show()"
   ]
  },
  {
   "cell_type": "code",
   "execution_count": 26,
   "id": "7ae2d66e",
   "metadata": {},
   "outputs": [],
   "source": [
    "# Definimos el integrando analítico\n",
    "\n",
    "def In(x):\n",
    "    F = ( E(x) - O(x)*ml(x) ) * ( dl(x) )\n",
    "    return F\n",
    "\n",
    "Insch = In(x)\n"
   ]
  },
  {
   "cell_type": "code",
   "execution_count": 27,
   "id": "de75b876",
   "metadata": {},
   "outputs": [],
   "source": [
    "# Definimos el integrando numérico\n",
    "\n",
    "InN = ( EschN - OschN*lschN ) * dlN\n",
    "RcorN = R[599:5999]\n",
    "IncorN = InN[599:5999]"
   ]
  },
  {
   "cell_type": "code",
   "execution_count": 28,
   "id": "0e89cb2f",
   "metadata": {},
   "outputs": [
    {
     "data": {
      "image/png": "[encoded data removed]",
      "text/plain": [
       "<Figure size 576x345.6 with 1 Axes>"
      ]
     },
     "metadata": {
      "needs_background": "light"
     },
     "output_type": "display_data"
    }
   ],
   "source": [
    "# GRAFICA DEL INTEGRANDO \n",
    "\n",
    "#Paquetes para escritura tipo Latex\n",
    "plt.rc('text', usetex = True)\n",
    "plt.rc('font', family = 'serif')\n",
    "        \n",
    "#Tamaño de la gráfica y creación de la gráfica.\n",
    "      \n",
    "fig, ax = plt.subplots(figsize = (8.0, 4.8), sharex=False, sharey=False)\n",
    "\n",
    "ax.hlines( 0.0, 0.0, 60.00, color = 'black', linewidth = 1.0 )\n",
    "\n",
    "ax.plot( x,      Insch,        \"-\" , markersize = 3.5, label = r\"Analítico\", linewidth = 1.5, color = \"blue\"  )\n",
    "ax.plot( R[::35], InN[::35],  \"o\",  markersize = 3.0, label = r\"Numérico\",  linewidth = 0.5, color = \"red\" )\n",
    "ax.plot( RcorN[::35], IncorN[::35],  \"^\",  markersize = 3.0, label = r\"Numérico\",  linewidth = 0.5, color = \"green\" )\n",
    "\n",
    "plt.xlabel(r'$r/r_{g}$')\n",
    "plt.ylabel(r'$Integrando$')\n",
    "\n",
    "plt.xlim( 5.00, 25.00 )\n",
    "plt.ylim( -0.001, 0.005 )\n",
    "\n",
    "plt.legend(loc='upper right', frameon=False)\n",
    "\n",
    "plt.show()"
   ]
  },
  {
   "cell_type": "code",
   "execution_count": 29,
   "id": "671e9537",
   "metadata": {},
   "outputs": [
    {
     "name": "stdout",
     "output_type": "stream",
     "text": [
      "4.702440631308409\n"
     ]
    }
   ],
   "source": [
    "# Resultado analítico de la pura integral.\n",
    "\n",
    "def RIn(x):\n",
    "    F = np.sqrt(x) + np.sqrt(3) * np.arctanh(np.radians(np.sqrt(x/3))) - np.sqrt(6) - np.sqrt(3) * np.arctanh(np.radians(np.sqrt(6/3)))\n",
    "    return F \n",
    "\n",
    "RInshc = RIn(x)\n",
    "\n",
    "print( RIn(50) )"
   ]
  },
  {
   "cell_type": "code",
   "execution_count": 30,
   "id": "16b3f6b8",
   "metadata": {},
   "outputs": [],
   "source": [
    "# Resultado analítico de la integral adimensional\n",
    "\n",
    "def RID(x):\n",
    "    F  = np.sqrt(x) + np.sqrt(3)*np.arctanh( np.radians(np.sqrt(x/3)) ) - np.sqrt(6) - np.sqrt(3)*np.arctanh( np.radians(np.sqrt(6/3)) )\n",
    "    return F\n",
    "\n",
    "x1 = np.linspace(6.00, 60.0, 10000 )\n",
    "\n",
    "RIDS = RID(x1)"
   ]
  },
  {
   "cell_type": "code",
   "execution_count": 31,
   "id": "4568ef40",
   "metadata": {},
   "outputs": [],
   "source": [
    "RcorN = R[599:5999]\n",
    "IncorN = InN[599:5999]\n",
    "\n",
    "RInN = integrate.cumulative_trapezoid( IncorN, RcorN, initial = 0)\n"
   ]
  },
  {
   "cell_type": "code",
   "execution_count": 32,
   "id": "5da00d70",
   "metadata": {},
   "outputs": [
    {
     "data": {
      "image/png": "[encoded data removed]",
      "text/plain": [
       "<Figure size 576x345.6 with 1 Axes>"
      ]
     },
     "metadata": {
      "needs_background": "light"
     },
     "output_type": "display_data"
    }
   ],
   "source": [
    "# GRAFICA DE LA INTEGRAL DE LA POTENCIA POR UNIDAD DE ÁREA. \n",
    "\n",
    "#Paquetes para escritura tipo Latex\n",
    "plt.rc('text', usetex = True)\n",
    "plt.rc('font', family = 'serif')\n",
    "        \n",
    "#Tamaño de la gráfica y creación de la gráfica.\n",
    "      \n",
    "fig, ax = plt.subplots(figsize = (8.0, 4.8), sharex=False, sharey=False)\n",
    "\n",
    "ax.hlines( 0.0, 0.0, 60.00, color = 'black', linewidth = 1.0 )\n",
    "\n",
    "ax.plot( x,     RInshc,        \"-\" , markersize = 3.5, label = r\"Analítico\", linewidth = 1.5, color = \"blue\"  )\n",
    "ax.plot( RcorN[::55], 50*RInN[::55],  \"o\",  markersize = 3.0, label = r\"Numérico\",  linewidth = 0.5, color = \"red\" )\n",
    "\n",
    "plt.xlabel(r'$r/r_{g}$')\n",
    "plt.ylabel(r'$Integral$')\n",
    "\n",
    "#plt.xlim( 6.00, 25.00 )\n",
    "#plt.ylim( -0.50, 3.50 )\n",
    "\n",
    "plt.legend(loc='lower right', frameon=False)\n",
    "\n",
    "plt.show()"
   ]
  },
  {
   "cell_type": "code",
   "execution_count": 33,
   "id": "80c28da5",
   "metadata": {},
   "outputs": [
    {
     "data": {
      "text/plain": [
       "1.1102230246251565e-16"
      ]
     },
     "execution_count": 33,
     "metadata": {},
     "output_type": "execute_result"
    }
   ],
   "source": [
    "RID(6)"
   ]
  },
  {
   "cell_type": "code",
   "execution_count": null,
   "id": "5f929ad7",
   "metadata": {},
   "outputs": [],
   "source": []
  },
  {
   "cell_type": "code",
   "execution_count": null,
   "id": "db933b96",
   "metadata": {},
   "outputs": [],
   "source": []
  },
  {
   "cell_type": "code",
   "execution_count": 34,
   "id": "9e47a849",
   "metadata": {},
   "outputs": [],
   "source": [
    "# Definimos la potencia por unidad de área del disco de acreción para la solución analítica. \n",
    "\n",
    "def D(x):\n",
    "    F = ( 3*Mp*c**2 / ( 8*np.pi*x**(7/2)*rg**2 ) ) * (1-3/x)**(-1) * ( np.sqrt(x) + np.sqrt(3) * np.arctan(np.sqrt(x/3)) - np.sqrt(ri) - np.sqrt(3) * np.arctan(np.sqrt(ri/3)) )\n",
    "    return F\n",
    "\n",
    "Dsch = D(x)"
   ]
  },
  {
   "cell_type": "code",
   "execution_count": 35,
   "id": "0aed6e3f",
   "metadata": {},
   "outputs": [
    {
     "data": {
      "image/png": "[encoded data removed]",
      "text/plain": [
       "<Figure size 576x345.6 with 1 Axes>"
      ]
     },
     "metadata": {
      "needs_background": "light"
     },
     "output_type": "display_data"
    }
   ],
   "source": [
    "#GRAFICA DE LA POTENCIA POR UNIDAD DE ÁREA DEL DISCO DE ACRECIÓN ALREDEDOR DEL AGUJERO NEGRO DE Schwarzschild.\n",
    "\n",
    "#Paquetes para escritura tipo Latex\n",
    "plt.rc('text', usetex = True)\n",
    "plt.rc('font', family = 'serif')\n",
    "\n",
    "#Tamaño de la gráfica y creación de la gráfica.\n",
    "\n",
    "fig, ax = plt.subplots(figsize = (8.0, 4.8), sharex=False, sharey=False)\n",
    "\n",
    "ax.hlines( -1.0, -1.0, 60.00, color = 'black', linewidth = 1.0 )\n",
    "\n",
    "ax.plot( x,       Dsch/2,        \"-\" , markersize = 3.5, label = r\"Analítico\", linewidth = 1.5, color = \"blue\"  )\n",
    "#ax.plot( R[::25], OschN[::25], \"o\",  markersize = 3.5, label = r\"Numérico\",  linewidth = 1.5, color = \"red\" )\n",
    "\n",
    "ax.set_xlabel(r'$r/r_{g}$')\n",
    "ax.set_ylabel(r'$D(r/r_{g})$')\n",
    "\n",
    "plt.xlim(4.00, 20)\n",
    "plt.ylim(0.00, 3.00e+22)\n",
    "\n",
    "plt.legend(loc='upper right', frameon=False)\n",
    "\n",
    "plt.show()"
   ]
  },
  {
   "cell_type": "code",
   "execution_count": null,
   "id": "e48c89dd",
   "metadata": {},
   "outputs": [],
   "source": []
  },
  {
   "cell_type": "code",
   "execution_count": null,
   "id": "b29a94e3",
   "metadata": {},
   "outputs": [],
   "source": []
  },
  {
   "cell_type": "code",
   "execution_count": null,
   "id": "c449e977",
   "metadata": {},
   "outputs": [],
   "source": []
  },
  {
   "cell_type": "code",
   "execution_count": null,
   "id": "39fc006a",
   "metadata": {},
   "outputs": [],
   "source": []
  }
 ],
 "metadata": {
  "kernelspec": {
   "display_name": "Python 3 (ipykernel)",
   "language": "python",
   "name": "python3"
  },
  "language_info": {
   "codemirror_mode": {
    "name": "ipython",
    "version": 3
   },
   "file_extension": ".py",
   "mimetype": "text/x-python",
   "name": "python",
   "nbconvert_exporter": "python",
   "pygments_lexer": "ipython3",
   "version": "3.10.3"
  }
 },
 "nbformat": 4,
 "nbformat_minor": 5
}
